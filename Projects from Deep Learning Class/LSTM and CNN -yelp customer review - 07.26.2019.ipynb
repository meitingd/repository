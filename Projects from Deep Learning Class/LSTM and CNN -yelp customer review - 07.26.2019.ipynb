{
 "cells": [
  {
   "cell_type": "markdown",
   "metadata": {},
   "source": [
    "# Yelp Dataset Challenge\n",
    "https://www.yelp.com/dataset/challenge\n",
    "\n",
    "Introduction: \n",
    "\n",
    "Natural Language Processing & Sentiment Analysis\n",
    "What's in a review? Is it positive or negative? Yelp reviews contain a lot of metadata that can be mined and used to infer meaning, business attributes, and sentiment."
   ]
  },
  {
   "cell_type": "code",
   "execution_count": 1,
   "metadata": {},
   "outputs": [
    {
     "name": "stderr",
     "output_type": "stream",
     "text": [
      "Using TensorFlow backend.\n"
     ]
    }
   ],
   "source": [
    "# Import Libraries\n",
    "import json\n",
    "import os\n",
    "\n",
    "import numpy as np\n",
    "import pandas as pd\n",
    "import string\n",
    "from string import digits\n",
    "import re\n",
    "import tensorflow as tf\n",
    "from tensorflow import keras\n",
    "\n",
    "from numpy.random import seed\n",
    "seed(2)\n",
    "from tensorflow import set_random_seed\n",
    "set_random_seed(2)\n",
    "\n",
    "import matplotlib.pyplot as plt\n",
    "from keras.layers import LSTM\n",
    "from keras.models import Sequential\n",
    "from keras.layers import Dense\n",
    "from keras.layers import Dropout\n",
    "from keras.layers import Flatten\n",
    "from keras.layers import Activation\n",
    "from keras.layers import Bidirectional\n",
    "from keras.layers import Input"
   ]
  },
  {
   "cell_type": "markdown",
   "metadata": {},
   "source": [
    "## Step 1: Extract and Import Data"
   ]
  },
  {
   "cell_type": "code",
   "execution_count": 2,
   "metadata": {},
   "outputs": [],
   "source": [
    "# Load the json file downloaded from Yelp Dataset\n",
    "tweets = []\n",
    "for line in open('review.json', 'r', encoding='utf-8'):\n",
    "    tweets.append(json.loads(line))"
   ]
  },
  {
   "cell_type": "code",
   "execution_count": null,
   "metadata": {},
   "outputs": [],
   "source": [
    "# Convert data from the json file into a dataframe\n",
    "from tqdm import tqdm\n",
    "\n",
    "data = { 'business_id': [], 'stars':[], 'text': []  }\n",
    "\n",
    "with open('review.json',encoding='utf-8' ) as f:\n",
    "    for line in tqdm(f):\n",
    "        review = json.loads(line)\n",
    "        data['business_id'].append(review['business_id'])\n",
    "        data['stars'].append(review['stars'])\n",
    "        data['text'].append(review['text'])\n",
    "        \n",
    "df = pd.DataFrame(data)"
   ]
  },
  {
   "cell_type": "code",
   "execution_count": null,
   "metadata": {},
   "outputs": [],
   "source": [
    "# Extra the first 250k lines of reviews and export them into a csv file\n",
    "yelp_review=df[:250000]\n",
    "export_csv=yelp_review.to_csv('yelp_review_250k.csv', header=True) "
   ]
  },
  {
   "cell_type": "markdown",
   "metadata": {},
   "source": [
    "## Step 2: Data Preprocessing"
   ]
  },
  {
   "cell_type": "code",
   "execution_count": 3,
   "metadata": {},
   "outputs": [
    {
     "data": {
      "text/html": [
       "<div>\n",
       "<style scoped>\n",
       "    .dataframe tbody tr th:only-of-type {\n",
       "        vertical-align: middle;\n",
       "    }\n",
       "\n",
       "    .dataframe tbody tr th {\n",
       "        vertical-align: top;\n",
       "    }\n",
       "\n",
       "    .dataframe thead th {\n",
       "        text-align: right;\n",
       "    }\n",
       "</style>\n",
       "<table border=\"1\" class=\"dataframe\">\n",
       "  <thead>\n",
       "    <tr style=\"text-align: right;\">\n",
       "      <th></th>\n",
       "      <th>Unnamed: 0</th>\n",
       "      <th>business_id</th>\n",
       "      <th>stars</th>\n",
       "      <th>text</th>\n",
       "    </tr>\n",
       "  </thead>\n",
       "  <tbody>\n",
       "    <tr>\n",
       "      <th>221576</th>\n",
       "      <td>221576</td>\n",
       "      <td>2W3If040rgz34_ZO3c_SxA</td>\n",
       "      <td>1.0</td>\n",
       "      <td>Terrible service. The wait time is horrendousl...</td>\n",
       "    </tr>\n",
       "    <tr>\n",
       "      <th>62935</th>\n",
       "      <td>62935</td>\n",
       "      <td>-1xuC540Nycht_iWFeJ-dw</td>\n",
       "      <td>5.0</td>\n",
       "      <td>I felt like I was joining a club. There are ru...</td>\n",
       "    </tr>\n",
       "    <tr>\n",
       "      <th>53216</th>\n",
       "      <td>53216</td>\n",
       "      <td>XrpWb4vB7-1z26OreeCD2w</td>\n",
       "      <td>4.0</td>\n",
       "      <td>Pleasant staff, great food. Not too much for v...</td>\n",
       "    </tr>\n",
       "    <tr>\n",
       "      <th>128428</th>\n",
       "      <td>128428</td>\n",
       "      <td>3I0Psc6hb4kwOV4TlS03hw</td>\n",
       "      <td>1.0</td>\n",
       "      <td>If I could I would leave no stars. The night t...</td>\n",
       "    </tr>\n",
       "    <tr>\n",
       "      <th>30376</th>\n",
       "      <td>30376</td>\n",
       "      <td>CgsUUVwL8EBqcHFxrtkFtA</td>\n",
       "      <td>2.0</td>\n",
       "      <td>The waitress was very pleasant but didn't do a...</td>\n",
       "    </tr>\n",
       "  </tbody>\n",
       "</table>\n",
       "</div>"
      ],
      "text/plain": [
       "        Unnamed: 0             business_id  stars  \\\n",
       "221576      221576  2W3If040rgz34_ZO3c_SxA    1.0   \n",
       "62935        62935  -1xuC540Nycht_iWFeJ-dw    5.0   \n",
       "53216        53216  XrpWb4vB7-1z26OreeCD2w    4.0   \n",
       "128428      128428  3I0Psc6hb4kwOV4TlS03hw    1.0   \n",
       "30376        30376  CgsUUVwL8EBqcHFxrtkFtA    2.0   \n",
       "\n",
       "                                                     text  \n",
       "221576  Terrible service. The wait time is horrendousl...  \n",
       "62935   I felt like I was joining a club. There are ru...  \n",
       "53216   Pleasant staff, great food. Not too much for v...  \n",
       "128428  If I could I would leave no stars. The night t...  \n",
       "30376   The waitress was very pleasant but didn't do a...  "
      ]
     },
     "execution_count": 3,
     "metadata": {},
     "output_type": "execute_result"
    }
   ],
   "source": [
    "# Import the cvs file and read it as dataframe.\n",
    "new_df=pd.read_csv('yelp_review_250k.csv')\n",
    "new_df.head()\n",
    "\n",
    "# Randomly shuffle the data \n",
    "new_df= new_df.reindex(np.random.permutation(new_df.index))\n",
    "new_df.head()"
   ]
  },
  {
   "cell_type": "code",
   "execution_count": 4,
   "metadata": {},
   "outputs": [
    {
     "data": {
      "text/html": [
       "<div>\n",
       "<style scoped>\n",
       "    .dataframe tbody tr th:only-of-type {\n",
       "        vertical-align: middle;\n",
       "    }\n",
       "\n",
       "    .dataframe tbody tr th {\n",
       "        vertical-align: top;\n",
       "    }\n",
       "\n",
       "    .dataframe thead th {\n",
       "        text-align: right;\n",
       "    }\n",
       "</style>\n",
       "<table border=\"1\" class=\"dataframe\">\n",
       "  <thead>\n",
       "    <tr style=\"text-align: right;\">\n",
       "      <th></th>\n",
       "      <th>business_id</th>\n",
       "      <th>stars</th>\n",
       "      <th>text</th>\n",
       "    </tr>\n",
       "  </thead>\n",
       "  <tbody>\n",
       "    <tr>\n",
       "      <th>221576</th>\n",
       "      <td>2W3If040rgz34_ZO3c_SxA</td>\n",
       "      <td>1.0</td>\n",
       "      <td>Terrible service. The wait time is horrendousl...</td>\n",
       "    </tr>\n",
       "    <tr>\n",
       "      <th>62935</th>\n",
       "      <td>-1xuC540Nycht_iWFeJ-dw</td>\n",
       "      <td>5.0</td>\n",
       "      <td>I felt like I was joining a club. There are ru...</td>\n",
       "    </tr>\n",
       "    <tr>\n",
       "      <th>53216</th>\n",
       "      <td>XrpWb4vB7-1z26OreeCD2w</td>\n",
       "      <td>4.0</td>\n",
       "      <td>Pleasant staff, great food. Not too much for v...</td>\n",
       "    </tr>\n",
       "    <tr>\n",
       "      <th>128428</th>\n",
       "      <td>3I0Psc6hb4kwOV4TlS03hw</td>\n",
       "      <td>1.0</td>\n",
       "      <td>If I could I would leave no stars. The night t...</td>\n",
       "    </tr>\n",
       "    <tr>\n",
       "      <th>30376</th>\n",
       "      <td>CgsUUVwL8EBqcHFxrtkFtA</td>\n",
       "      <td>2.0</td>\n",
       "      <td>The waitress was very pleasant but didn't do a...</td>\n",
       "    </tr>\n",
       "  </tbody>\n",
       "</table>\n",
       "</div>"
      ],
      "text/plain": [
       "                   business_id  stars  \\\n",
       "221576  2W3If040rgz34_ZO3c_SxA    1.0   \n",
       "62935   -1xuC540Nycht_iWFeJ-dw    5.0   \n",
       "53216   XrpWb4vB7-1z26OreeCD2w    4.0   \n",
       "128428  3I0Psc6hb4kwOV4TlS03hw    1.0   \n",
       "30376   CgsUUVwL8EBqcHFxrtkFtA    2.0   \n",
       "\n",
       "                                                     text  \n",
       "221576  Terrible service. The wait time is horrendousl...  \n",
       "62935   I felt like I was joining a club. There are ru...  \n",
       "53216   Pleasant staff, great food. Not too much for v...  \n",
       "128428  If I could I would leave no stars. The night t...  \n",
       "30376   The waitress was very pleasant but didn't do a...  "
      ]
     },
     "execution_count": 4,
     "metadata": {},
     "output_type": "execute_result"
    }
   ],
   "source": [
    "# Filter out the index column \n",
    "new_df=new_df[['business_id', 'stars','text']]\n",
    "new_df.head()"
   ]
  },
  {
   "cell_type": "code",
   "execution_count": 5,
   "metadata": {},
   "outputs": [],
   "source": [
    "# Create a new column called “label” to identify negative (0) , neutral (1) , and positive (2) reviews\n",
    "new_df.loc[new_df.stars==1, 'label']=0\n",
    "new_df.loc[new_df.stars==2, 'label']=0\n",
    "new_df.loc[new_df.stars==3, 'label']=1\n",
    "new_df.loc[new_df.stars==4, 'label']=2\n",
    "new_df.loc[new_df.stars==5, 'label']=2"
   ]
  },
  {
   "cell_type": "code",
   "execution_count": 6,
   "metadata": {},
   "outputs": [
    {
     "data": {
      "text/html": [
       "<div>\n",
       "<style scoped>\n",
       "    .dataframe tbody tr th:only-of-type {\n",
       "        vertical-align: middle;\n",
       "    }\n",
       "\n",
       "    .dataframe tbody tr th {\n",
       "        vertical-align: top;\n",
       "    }\n",
       "\n",
       "    .dataframe thead th {\n",
       "        text-align: right;\n",
       "    }\n",
       "</style>\n",
       "<table border=\"1\" class=\"dataframe\">\n",
       "  <thead>\n",
       "    <tr style=\"text-align: right;\">\n",
       "      <th></th>\n",
       "      <th>business_id</th>\n",
       "      <th>stars</th>\n",
       "      <th>text</th>\n",
       "      <th>label</th>\n",
       "    </tr>\n",
       "  </thead>\n",
       "  <tbody>\n",
       "    <tr>\n",
       "      <th>221576</th>\n",
       "      <td>2W3If040rgz34_ZO3c_SxA</td>\n",
       "      <td>1.0</td>\n",
       "      <td>Terrible service. The wait time is horrendousl...</td>\n",
       "      <td>0.0</td>\n",
       "    </tr>\n",
       "    <tr>\n",
       "      <th>62935</th>\n",
       "      <td>-1xuC540Nycht_iWFeJ-dw</td>\n",
       "      <td>5.0</td>\n",
       "      <td>I felt like I was joining a club. There are ru...</td>\n",
       "      <td>2.0</td>\n",
       "    </tr>\n",
       "    <tr>\n",
       "      <th>53216</th>\n",
       "      <td>XrpWb4vB7-1z26OreeCD2w</td>\n",
       "      <td>4.0</td>\n",
       "      <td>Pleasant staff, great food. Not too much for v...</td>\n",
       "      <td>2.0</td>\n",
       "    </tr>\n",
       "    <tr>\n",
       "      <th>128428</th>\n",
       "      <td>3I0Psc6hb4kwOV4TlS03hw</td>\n",
       "      <td>1.0</td>\n",
       "      <td>If I could I would leave no stars. The night t...</td>\n",
       "      <td>0.0</td>\n",
       "    </tr>\n",
       "    <tr>\n",
       "      <th>30376</th>\n",
       "      <td>CgsUUVwL8EBqcHFxrtkFtA</td>\n",
       "      <td>2.0</td>\n",
       "      <td>The waitress was very pleasant but didn't do a...</td>\n",
       "      <td>0.0</td>\n",
       "    </tr>\n",
       "  </tbody>\n",
       "</table>\n",
       "</div>"
      ],
      "text/plain": [
       "                   business_id  stars  \\\n",
       "221576  2W3If040rgz34_ZO3c_SxA    1.0   \n",
       "62935   -1xuC540Nycht_iWFeJ-dw    5.0   \n",
       "53216   XrpWb4vB7-1z26OreeCD2w    4.0   \n",
       "128428  3I0Psc6hb4kwOV4TlS03hw    1.0   \n",
       "30376   CgsUUVwL8EBqcHFxrtkFtA    2.0   \n",
       "\n",
       "                                                     text  label  \n",
       "221576  Terrible service. The wait time is horrendousl...    0.0  \n",
       "62935   I felt like I was joining a club. There are ru...    2.0  \n",
       "53216   Pleasant staff, great food. Not too much for v...    2.0  \n",
       "128428  If I could I would leave no stars. The night t...    0.0  \n",
       "30376   The waitress was very pleasant but didn't do a...    0.0  "
      ]
     },
     "execution_count": 6,
     "metadata": {},
     "output_type": "execute_result"
    }
   ],
   "source": [
    "# Inspect the data to ensure that labels are properly coded\n",
    "new_df.head()"
   ]
  },
  {
   "cell_type": "code",
   "execution_count": 50,
   "metadata": {},
   "outputs": [
    {
     "data": {
      "text/plain": [
       "business_id    0\n",
       "stars          0\n",
       "text           0\n",
       "label          0\n",
       "dtype: int64"
      ]
     },
     "execution_count": 50,
     "metadata": {},
     "output_type": "execute_result"
    }
   ],
   "source": [
    "# Check whether there are any missing data\n",
    "new_df.isnull().sum()"
   ]
  },
  {
   "cell_type": "code",
   "execution_count": 51,
   "metadata": {},
   "outputs": [
    {
     "data": {
      "image/png": "[encoded data removed]",
      "text/plain": [
       "<Figure size 432x288 with 1 Axes>"
      ]
     },
     "metadata": {},
     "output_type": "display_data"
    }
   ],
   "source": [
    "#inspect the distribution of training labels before converting the data into one-hot encoding\n",
    "train_label_dist = new_df.label[:200000]\n",
    "ytrain_label, ytrain_count=np.unique(train_label_dist, return_counts=True)\n",
    "ytrain_label, ytrain_count\n",
    "label_list=['Negative', 'Neutral','Positive']\n",
    "\n",
    "colors = ['#2c87bb', '#52d726', '#ffa9fd']\n",
    "fig1, ax1 = plt.subplots() \n",
    "ax1.pie(ytrain_count, labels=label_list,colors=colors,autopct='%.2f%%',pctdistance = 0.6,  \n",
    "        shadow=True, startangle=0)\n",
    "ax1.axis('equal')\n",
    "plt.title('Label Distribution of Training Data\\n')\n",
    "plt.show()"
   ]
  },
  {
   "cell_type": "code",
   "execution_count": 52,
   "metadata": {},
   "outputs": [
    {
     "data": {
      "image/png": "[encoded data removed]",
      "text/plain": [
       "<Figure size 432x288 with 1 Axes>"
      ]
     },
     "metadata": {},
     "output_type": "display_data"
    }
   ],
   "source": [
    "#inspect the distribution of validation labels before converting the data into one-hot encoding\n",
    "val_label_dist = new_df.label[200000:]\n",
    "yval_label, yval_count=np.unique(val_label_dist, return_counts=True)\n",
    "yval_label, yval_count\n",
    "label_list=['Negative', 'Neutral','Positive']\n",
    "\n",
    "\n",
    "fig2, ax2 = plt.subplots() \n",
    "ax2.pie(yval_count, labels=label_list,colors=colors,autopct='%.2f%%',pctdistance = 0.6,  \n",
    "        shadow=True, startangle=0)\n",
    "ax2.axis('equal')  \n",
    "plt.title('Label Distribution of Validation Data\\n')\n",
    "plt.show()"
   ]
  },
  {
   "cell_type": "code",
   "execution_count": 7,
   "metadata": {},
   "outputs": [],
   "source": [
    "# Format the “text” column to turn all words into lowercase letters\n",
    "new_df.text=new_df.text.apply(lambda x: x.lower())"
   ]
  },
  {
   "cell_type": "code",
   "execution_count": 8,
   "metadata": {},
   "outputs": [],
   "source": [
    "# Format “text” column to exclude all punctuations\n",
    "exclude = set(string.punctuation)\n",
    "new_df.text=new_df.text.apply(lambda x: ''.join(ch for ch in x if ch not in exclude))\n"
   ]
  },
  {
   "cell_type": "code",
   "execution_count": 9,
   "metadata": {},
   "outputs": [],
   "source": [
    "# Format “text” column to exclude all numbers\n",
    "remove_digits = str.maketrans('', '', digits)\n",
    "new_df.text=new_df.text.apply(lambda x: x.translate(remove_digits))"
   ]
  },
  {
   "cell_type": "code",
   "execution_count": 10,
   "metadata": {},
   "outputs": [],
   "source": [
    "# Format “text” column to remove any extra spaces before and after a paragraph \n",
    "new_df.text=new_df.text.apply(lambda x: x.strip())"
   ]
  },
  {
   "cell_type": "code",
   "execution_count": 11,
   "metadata": {},
   "outputs": [],
   "source": [
    "# Format “text” column to remove line separators (\\n)\n",
    "new_df.text=new_df.text.apply(lambda x: re.sub(\"\\n\", '', x))"
   ]
  },
  {
   "cell_type": "code",
   "execution_count": 12,
   "metadata": {},
   "outputs": [
    {
     "data": {
      "text/html": [
       "<div>\n",
       "<style scoped>\n",
       "    .dataframe tbody tr th:only-of-type {\n",
       "        vertical-align: middle;\n",
       "    }\n",
       "\n",
       "    .dataframe tbody tr th {\n",
       "        vertical-align: top;\n",
       "    }\n",
       "\n",
       "    .dataframe thead th {\n",
       "        text-align: right;\n",
       "    }\n",
       "</style>\n",
       "<table border=\"1\" class=\"dataframe\">\n",
       "  <thead>\n",
       "    <tr style=\"text-align: right;\">\n",
       "      <th></th>\n",
       "      <th>business_id</th>\n",
       "      <th>stars</th>\n",
       "      <th>text</th>\n",
       "      <th>label</th>\n",
       "    </tr>\n",
       "  </thead>\n",
       "  <tbody>\n",
       "    <tr>\n",
       "      <th>221576</th>\n",
       "      <td>2W3If040rgz34_ZO3c_SxA</td>\n",
       "      <td>1.0</td>\n",
       "      <td>terrible service the wait time is horrendously...</td>\n",
       "      <td>0.0</td>\n",
       "    </tr>\n",
       "    <tr>\n",
       "      <th>62935</th>\n",
       "      <td>-1xuC540Nycht_iWFeJ-dw</td>\n",
       "      <td>5.0</td>\n",
       "      <td>i felt like i was joining a club there are rul...</td>\n",
       "      <td>2.0</td>\n",
       "    </tr>\n",
       "    <tr>\n",
       "      <th>53216</th>\n",
       "      <td>XrpWb4vB7-1z26OreeCD2w</td>\n",
       "      <td>4.0</td>\n",
       "      <td>pleasant staff great food not too much for veg...</td>\n",
       "      <td>2.0</td>\n",
       "    </tr>\n",
       "    <tr>\n",
       "      <th>128428</th>\n",
       "      <td>3I0Psc6hb4kwOV4TlS03hw</td>\n",
       "      <td>1.0</td>\n",
       "      <td>if i could i would leave no stars the night ti...</td>\n",
       "      <td>0.0</td>\n",
       "    </tr>\n",
       "    <tr>\n",
       "      <th>30376</th>\n",
       "      <td>CgsUUVwL8EBqcHFxrtkFtA</td>\n",
       "      <td>2.0</td>\n",
       "      <td>the waitress was very pleasant but didnt do a ...</td>\n",
       "      <td>0.0</td>\n",
       "    </tr>\n",
       "  </tbody>\n",
       "</table>\n",
       "</div>"
      ],
      "text/plain": [
       "                   business_id  stars  \\\n",
       "221576  2W3If040rgz34_ZO3c_SxA    1.0   \n",
       "62935   -1xuC540Nycht_iWFeJ-dw    5.0   \n",
       "53216   XrpWb4vB7-1z26OreeCD2w    4.0   \n",
       "128428  3I0Psc6hb4kwOV4TlS03hw    1.0   \n",
       "30376   CgsUUVwL8EBqcHFxrtkFtA    2.0   \n",
       "\n",
       "                                                     text  label  \n",
       "221576  terrible service the wait time is horrendously...    0.0  \n",
       "62935   i felt like i was joining a club there are rul...    2.0  \n",
       "53216   pleasant staff great food not too much for veg...    2.0  \n",
       "128428  if i could i would leave no stars the night ti...    0.0  \n",
       "30376   the waitress was very pleasant but didnt do a ...    0.0  "
      ]
     },
     "execution_count": 12,
     "metadata": {},
     "output_type": "execute_result"
    }
   ],
   "source": [
    "# Inspect data to ensure that the \"text\" column has been formatted properly \n",
    "new_df.head()"
   ]
  },
  {
   "cell_type": "code",
   "execution_count": 13,
   "metadata": {},
   "outputs": [],
   "source": [
    "# Assign new variable names for “texts” and “labels”\n",
    "texts=new_df['text'].values\n",
    "labels=new_df['label'].values"
   ]
  },
  {
   "cell_type": "code",
   "execution_count": 14,
   "metadata": {},
   "outputs": [
    {
     "name": "stdout",
     "output_type": "stream",
     "text": [
      "Found 272412 unique tokens.\n",
      "Shape of data tensor: (250000, 256)\n",
      "Shape of label tensor: (250000, 3)\n"
     ]
    }
   ],
   "source": [
    "# Tokenize the words in \"texts\" and convert them into vector arrays\n",
    "\n",
    "MAX_NUM_WORDS=10000 # how many unique words to use (i.e num rows in embedding vector)\n",
    "MAX_SEQUENCE_LENGTH=256 # max number of words in a review to use\n",
    "\n",
    "\n",
    "tokenizer = keras.preprocessing.text.Tokenizer(num_words=MAX_NUM_WORDS)\n",
    "tokenizer.fit_on_texts(texts)\n",
    "sequences = tokenizer.texts_to_sequences(texts)\n",
    "\n",
    "word_index = tokenizer.word_index\n",
    "print('Found %s unique tokens.' % len(word_index))\n",
    "\n",
    "# Pads sequences to the same length\n",
    "data = keras.preprocessing.sequence.pad_sequences(sequences, maxlen=MAX_SEQUENCE_LENGTH)\n",
    "\n",
    "labels = keras.utils.to_categorical(np.asarray(labels))\n",
    "print('Shape of data tensor:', data.shape)\n",
    "print('Shape of label tensor:', labels.shape)"
   ]
  },
  {
   "cell_type": "code",
   "execution_count": 15,
   "metadata": {},
   "outputs": [
    {
     "data": {
      "text/plain": [
       "array([  18, 1719,   12, 2133,  599,   73,   19,   46,   11,    1,  195,\n",
       "        282,   19, 9531,   10, 6445,   13,  113,   27,  980,   48,    7,\n",
       "          1,  387,  404,   19, 1460,   38,   63,  223,  601,   11, 1980,\n",
       "          5,  261,    5,    1,  566,   19,   46,    8,  364,   47,   22,\n",
       "         61,  111,    7,    4, 5211,    5, 1460,   38,   63,    5,   99,\n",
       "       1654,    1,  922, 1972,   26,  168,  566,   37,   16,   81,    9,\n",
       "        100,    2,   12,   16,   81,    8,   83,    3,   96,    1, 3319,\n",
       "        100,  201,  100,  196,  255,    2,  632,  246,    1,  100,    6,\n",
       "         25,  758,   25,    3,   93,  140,    5,  292,  137, 6631,  364,\n",
       "        174,  364,   44, 3040,    2,   44,  138,    3,   93,   46,    1,\n",
       "        255,  147,   22,  143, 3924, 1543,   13,    9,    1,  196,    6,\n",
       "       3675,    4,  190,    7,    8,   44,   77, 1364,    2,  393, 8669,\n",
       "          1,  100,    1,  246,   20,    1,   80,  708,   24,   35,    4,\n",
       "        186,   26,  164,   18,  147, 8278,    4,    1,  548,    6,  290,\n",
       "         10,    4, 6153,  201,  886,    2,  115,   16,  156,   19,    4,\n",
       "       1120,   26,    1,  894, 1525,   88,    3,  561,   47,   41,   73,\n",
       "        699,   19,    4,  294,  604,    5,  109,   38,   49, 1316,    3,\n",
       "        144,  142,    1,    1,  562,    6,    4,   82, 1111,    2,   37,\n",
       "          1, 1870,   20, 2102,  317,   61,   30,  667,  237,   10,    1,\n",
       "        246,   87,    1,   80,  885,  725,  237,   10,   13,  100,   25,\n",
       "         87,   54,  509,   13,  100,   39,   19,   72,   46,  547,    1,\n",
       "       5125,   20, 5568, 6763,    1,  698, 3880,    1, 4277,  210, 1981,\n",
       "        292,   32,   16,   49,  270,    2,   13,  195,  282,  115,   60,\n",
       "       3610,    1,  731])"
      ]
     },
     "execution_count": 15,
     "metadata": {},
     "output_type": "execute_result"
    }
   ],
   "source": [
    "# Inspect the data after converting texts into arrays\n",
    "data[1]"
   ]
  },
  {
   "cell_type": "code",
   "execution_count": 16,
   "metadata": {},
   "outputs": [
    {
     "data": {
      "text/plain": [
       "array([0., 0., 1.], dtype=float32)"
      ]
     },
     "execution_count": 16,
     "metadata": {},
     "output_type": "execute_result"
    }
   ],
   "source": [
    "labels[1]"
   ]
  },
  {
   "cell_type": "code",
   "execution_count": 17,
   "metadata": {},
   "outputs": [],
   "source": [
    "# Split the dataset into training and validation sets \n",
    "# The first 200k rows will be used for training set, and the remaining rows will be assigned to validation set.\n",
    "# Note the data has already been shuffled randomly before the split.\n",
    "x_train = data[:200000]\n",
    "y_train = labels[:200000]\n",
    "x_val = data[200000:]\n",
    "y_val = labels[200000:]"
   ]
  },
  {
   "cell_type": "code",
   "execution_count": 19,
   "metadata": {},
   "outputs": [
    {
     "data": {
      "text/plain": [
       "(200000, 256)"
      ]
     },
     "execution_count": 19,
     "metadata": {},
     "output_type": "execute_result"
    }
   ],
   "source": [
    "# Inspect the shape of training set\n",
    "x_train.shape"
   ]
  },
  {
   "cell_type": "code",
   "execution_count": 20,
   "metadata": {},
   "outputs": [
    {
     "name": "stdout",
     "output_type": "stream",
     "text": [
      "Found 400000 word vectors.\n"
     ]
    }
   ],
   "source": [
    "# Create the embedding layer from a pre-trained word embedding dataset - glove.6B.50d.text\n",
    "# We used the GloVe model for creating the embedding layer. The file source can be found in https://nlp.stanford.edu/projects/glove/.\n",
    "embeddings_index = {}\n",
    "f = open('glove.6B.50d.txt', 'r', encoding='utf-8')\n",
    "for line in f:\n",
    "    values = line.split()\n",
    "    word = values[0]\n",
    "    coefs = np.asarray(values[1:], dtype='float32')\n",
    "    embeddings_index[word] = coefs\n",
    "f.close()\n",
    "\n",
    "print('Found %s word vectors.' % len(embeddings_index))"
   ]
  },
  {
   "cell_type": "code",
   "execution_count": 21,
   "metadata": {},
   "outputs": [],
   "source": [
    "# Create the embedding layer\n",
    "EMBEDDING_DIM = 50 # how big is each word vector\n",
    "\n",
    "embedding_matrix = np.zeros((len(word_index) + 1, EMBEDDING_DIM))\n",
    "for word, i in word_index.items():\n",
    "    embedding_vector = embeddings_index.get(word)\n",
    "    if embedding_vector is not None:\n",
    "        # words not found in embedding index will be all-zeros.\n",
    "        embedding_matrix[i] = embedding_vector"
   ]
  },
  {
   "cell_type": "markdown",
   "metadata": {},
   "source": [
    "## Step 3: Build the Models"
   ]
  },
  {
   "cell_type": "markdown",
   "metadata": {},
   "source": [
    "### Model 1:  LSTM Model"
   ]
  },
  {
   "cell_type": "code",
   "execution_count": 22,
   "metadata": {},
   "outputs": [
    {
     "name": "stderr",
     "output_type": "stream",
     "text": [
      "WARNING: Logging before flag parsing goes to stderr.\n",
      "W0722 15:18:49.949498  9160 deprecation.py:506] From C:\\Users\\Meiting\\Anaconda3\\envs\\tensorflow_env\\lib\\site-packages\\tensorflow\\python\\keras\\initializers.py:119: calling RandomUniform.__init__ (from tensorflow.python.ops.init_ops) with dtype is deprecated and will be removed in a future version.\n",
      "Instructions for updating:\n",
      "Call initializer instance with the dtype argument instead of passing it to the constructor\n",
      "W0722 15:18:49.997367  9160 deprecation.py:506] From C:\\Users\\Meiting\\Anaconda3\\envs\\tensorflow_env\\lib\\site-packages\\tensorflow\\python\\ops\\init_ops.py:1251: calling VarianceScaling.__init__ (from tensorflow.python.ops.init_ops) with dtype is deprecated and will be removed in a future version.\n",
      "Instructions for updating:\n",
      "Call initializer instance with the dtype argument instead of passing it to the constructor\n"
     ]
    },
    {
     "name": "stdout",
     "output_type": "stream",
     "text": [
      "Model: \"sequential\"\n",
      "_________________________________________________________________\n",
      "Layer (type)                 Output Shape              Param #   \n",
      "=================================================================\n",
      "embedding (Embedding)        (None, 256, 50)           500000    \n",
      "_________________________________________________________________\n",
      "dropout (Dropout)            (None, 256, 50)           0         \n",
      "_________________________________________________________________\n",
      "lstm (LSTM)                  (None, 128)               91648     \n",
      "_________________________________________________________________\n",
      "dense (Dense)                (None, 3)                 387       \n",
      "=================================================================\n",
      "Total params: 592,035\n",
      "Trainable params: 592,035\n",
      "Non-trainable params: 0\n",
      "_________________________________________________________________\n"
     ]
    }
   ],
   "source": [
    "#vocab_size = 10000 #input_dim:Size of the vocabulary, i.e. maximum integer index + 1\n",
    "#embedding_dim = 50 #output_dim: Dimension of the dense embedding.\n",
    "dropout_rate=0.1\n",
    "\n",
    "model = keras.Sequential()\n",
    "model.add(keras.layers.Embedding(MAX_NUM_WORDS, EMBEDDING_DIM, input_length=MAX_SEQUENCE_LENGTH))\n",
    "model.add(keras.layers.Dropout(dropout_rate))\n",
    "model.add(keras.layers.LSTM(128, dropout=dropout_rate, recurrent_dropout=0.2))\n",
    "model.add(keras.layers.Dense(3, activation=tf.nn.softmax))\n",
    "\n",
    "model.summary()"
   ]
  },
  {
   "cell_type": "code",
   "execution_count": 25,
   "metadata": {},
   "outputs": [],
   "source": [
    "# Compile the model\n",
    "model.compile(optimizer=tf.train.AdamOptimizer(),\n",
    "              loss='categorical_crossentropy',\n",
    "              metrics=['accuracy'])"
   ]
  },
  {
   "cell_type": "code",
   "execution_count": 26,
   "metadata": {},
   "outputs": [
    {
     "name": "stdout",
     "output_type": "stream",
     "text": [
      "Train on 200000 samples, validate on 50000 samples\n",
      "Epoch 1/5\n",
      "200000/200000 [==============================] - 1005s 5ms/sample - loss: 0.4488 - acc: 0.8330 - val_loss: 0.4015 - val_acc: 0.8460\n",
      "Epoch 2/5\n",
      "200000/200000 [==============================] - 1029s 5ms/sample - loss: 0.3764 - acc: 0.8549 - val_loss: 0.3666 - val_acc: 0.8566\n",
      "Epoch 3/5\n",
      "200000/200000 [==============================] - 1079s 5ms/sample - loss: 0.3403 - acc: 0.8673 - val_loss: 0.3571 - val_acc: 0.8564\n",
      "Epoch 4/5\n",
      "200000/200000 [==============================] - 1101s 6ms/sample - loss: 0.3121 - acc: 0.8776 - val_loss: 0.3434 - val_acc: 0.8655\n",
      "Epoch 5/5\n",
      "200000/200000 [==============================] - 1057s 5ms/sample - loss: 0.2929 - acc: 0.8852 - val_loss: 0.3487 - val_acc: 0.8683\n"
     ]
    }
   ],
   "source": [
    "# Train the model\n",
    "history = model.fit(x_train, y_train, validation_data=(x_val, y_val), batch_size=128, epochs=5, verbose=1)\n",
    "                    "
   ]
  },
  {
   "cell_type": "code",
   "execution_count": 27,
   "metadata": {},
   "outputs": [
    {
     "name": "stderr",
     "output_type": "stream",
     "text": [
      "W0722 16:48:56.147536  9160 hdf5_format.py:110] TensorFlow optimizers do not make it possible to access optimizer attributes or optimizer state after instantiation. As a result, we cannot save the optimizer as part of the model save file. You will have to compile your model again after loading it. Prefer using a Keras optimizer instead (see keras.io/optimizers).\n"
     ]
    }
   ],
   "source": [
    "# Save the model\n",
    "model.save('M1.h5')"
   ]
  },
  {
   "cell_type": "markdown",
   "metadata": {},
   "source": [
    "### Model 2: Bidirectional LSTM model"
   ]
  },
  {
   "cell_type": "code",
   "execution_count": 28,
   "metadata": {},
   "outputs": [
    {
     "name": "stderr",
     "output_type": "stream",
     "text": [
      "W0722 16:48:56.225765  9160 deprecation.py:506] From C:\\Users\\Meiting\\Anaconda3\\envs\\tensorflow_env\\lib\\site-packages\\tensorflow\\python\\ops\\init_ops.py:97: calling GlorotUniform.__init__ (from tensorflow.python.ops.init_ops) with dtype is deprecated and will be removed in a future version.\n",
      "Instructions for updating:\n",
      "Call initializer instance with the dtype argument instead of passing it to the constructor\n",
      "W0722 16:48:56.225765  9160 deprecation.py:506] From C:\\Users\\Meiting\\Anaconda3\\envs\\tensorflow_env\\lib\\site-packages\\tensorflow\\python\\ops\\init_ops.py:97: calling Orthogonal.__init__ (from tensorflow.python.ops.init_ops) with dtype is deprecated and will be removed in a future version.\n",
      "Instructions for updating:\n",
      "Call initializer instance with the dtype argument instead of passing it to the constructor\n",
      "W0722 16:48:56.225765  9160 deprecation.py:506] From C:\\Users\\Meiting\\Anaconda3\\envs\\tensorflow_env\\lib\\site-packages\\tensorflow\\python\\ops\\init_ops.py:97: calling Zeros.__init__ (from tensorflow.python.ops.init_ops) with dtype is deprecated and will be removed in a future version.\n",
      "Instructions for updating:\n",
      "Call initializer instance with the dtype argument instead of passing it to the constructor\n"
     ]
    },
    {
     "name": "stdout",
     "output_type": "stream",
     "text": [
      "Model: \"sequential_1\"\n",
      "_________________________________________________________________\n",
      "Layer (type)                 Output Shape              Param #   \n",
      "=================================================================\n",
      "embedding_1 (Embedding)      (None, 256, 50)           500000    \n",
      "_________________________________________________________________\n",
      "dropout_1 (Dropout)          (None, 256, 50)           0         \n",
      "_________________________________________________________________\n",
      "bidirectional (Bidirectional (None, 128)               58880     \n",
      "_________________________________________________________________\n",
      "dropout_2 (Dropout)          (None, 128)               0         \n",
      "_________________________________________________________________\n",
      "dense_1 (Dense)              (None, 3)                 387       \n",
      "=================================================================\n",
      "Total params: 559,267\n",
      "Trainable params: 559,267\n",
      "Non-trainable params: 0\n",
      "_________________________________________________________________\n"
     ]
    }
   ],
   "source": [
    "\n",
    "model_2 = keras.Sequential()\n",
    "model_2.add(keras.layers.Embedding(MAX_NUM_WORDS, EMBEDDING_DIM, input_length=MAX_SEQUENCE_LENGTH))\n",
    "model_2.add(keras.layers.Dropout(dropout_rate))\n",
    "model_2.add(keras.layers.Bidirectional(keras.layers.LSTM(64)))\n",
    "model_2.add(keras.layers.Dropout(dropout_rate))\n",
    "model_2.add(keras.layers.Dense(3, activation=tf.nn.softmax))\n",
    "\n",
    "model_2.summary()"
   ]
  },
  {
   "cell_type": "code",
   "execution_count": 29,
   "metadata": {},
   "outputs": [],
   "source": [
    "# Compile the model\n",
    "model_2.compile(optimizer=tf.train.AdamOptimizer(),\n",
    "              loss='categorical_crossentropy',\n",
    "              metrics=['accuracy'])"
   ]
  },
  {
   "cell_type": "code",
   "execution_count": 30,
   "metadata": {},
   "outputs": [
    {
     "name": "stdout",
     "output_type": "stream",
     "text": [
      "Train on 200000 samples, validate on 50000 samples\n",
      "Epoch 1/5\n",
      "200000/200000 [==============================] - 1634s 8ms/sample - loss: 0.4344 - acc: 0.8329 - val_loss: 0.3779 - val_acc: 0.8502\n",
      "Epoch 2/5\n",
      "200000/200000 [==============================] - 1627s 8ms/sample - loss: 0.3461 - acc: 0.8648 - val_loss: 0.3582 - val_acc: 0.8588\n",
      "Epoch 3/5\n",
      "200000/200000 [==============================] - 1629s 8ms/sample - loss: 0.3179 - acc: 0.8750 - val_loss: 0.3616 - val_acc: 0.8614\n",
      "Epoch 4/5\n",
      "200000/200000 [==============================] - 1625s 8ms/sample - loss: 0.2930 - acc: 0.8848 - val_loss: 0.3406 - val_acc: 0.8677\n",
      "Epoch 5/5\n",
      "200000/200000 [==============================] - 1633s 8ms/sample - loss: 0.2729 - acc: 0.8929 - val_loss: 0.3448 - val_acc: 0.8684\n"
     ]
    }
   ],
   "source": [
    "# Train the model\n",
    "history_2 = model_2.fit(x_train, y_train, validation_data=(x_val, y_val), batch_size=128, epochs=5, verbose=1)\n",
    "                    "
   ]
  },
  {
   "cell_type": "code",
   "execution_count": 31,
   "metadata": {},
   "outputs": [
    {
     "name": "stderr",
     "output_type": "stream",
     "text": [
      "W0722 19:04:47.737712  9160 hdf5_format.py:110] TensorFlow optimizers do not make it possible to access optimizer attributes or optimizer state after instantiation. As a result, we cannot save the optimizer as part of the model save file. You will have to compile your model again after loading it. Prefer using a Keras optimizer instead (see keras.io/optimizers).\n"
     ]
    }
   ],
   "source": [
    "# Save the model\n",
    "model_2.save('M2.h5')"
   ]
  },
  {
   "cell_type": "markdown",
   "metadata": {},
   "source": [
    "## Step 4: Plot Results of LSTM Models"
   ]
  },
  {
   "cell_type": "code",
   "execution_count": 89,
   "metadata": {},
   "outputs": [
    {
     "data": {
      "image/png": "[encoded data removed]",
      "text/plain": [
       "<Figure size 720x360 with 1 Axes>"
      ]
     },
     "metadata": {
      "needs_background": "light"
     },
     "output_type": "display_data"
    }
   ],
   "source": [
    "def plot_history(histories, key='acc'):\n",
    "  plt.figure(figsize=(10,5))\n",
    "  for name, history in histories:\n",
    "    val = plt.plot(history.epoch, history.history['val_'+key],\n",
    "                   '--', label=name.title()+' Val')\n",
    "    plt.plot(history.epoch, history.history[key], color=val[0].get_color(),\n",
    "             label=name.title()+' Train')\n",
    "\n",
    "  plt.xlabel('Epochs')\n",
    "  plt.ylabel(key.replace('_',' ').title())\n",
    "  plt.legend()\n",
    "\n",
    "  plt.xlim([0,max(history.epoch)])\n",
    "  plt.ylim([0.8,1])\n",
    "\n",
    "\n",
    "plot_history([('M 1: LSTM', history),\n",
    "              ('M 2: Bidirectional & LSTM', history_2)])\n",
    "\n",
    "\n"
   ]
  },
  {
   "cell_type": "markdown",
   "metadata": {},
   "source": [
    "## Step 5：Make Predictions"
   ]
  },
  {
   "cell_type": "markdown",
   "metadata": {},
   "source": [
    "### Using the LSTM Model (Model 1) to make predictions:"
   ]
  },
  {
   "cell_type": "code",
   "execution_count": 54,
   "metadata": {},
   "outputs": [],
   "source": [
    "#With the model trained, we can use it to make predictions and see how it fit with true value.\n",
    "predictions = model.predict(x_val)"
   ]
  },
  {
   "cell_type": "code",
   "execution_count": 57,
   "metadata": {},
   "outputs": [
    {
     "name": "stdout",
     "output_type": "stream",
     "text": [
      "[3.3957718e-04 3.4014878e-03 9.9625897e-01]\n",
      "2\n"
     ]
    }
   ],
   "source": [
    "#Here, the model has predicted the label for each review in the testing set. Let's take a look at a random row prediction:\n",
    "#A prediction is an array of 3 numbers. These describe the \"confidence\" of the model that the review on 366th row \n",
    "#corresponds to which of the 3 different review feedback. We can see \"2\" has the highest confidence value 0.9908 and it \n",
    "#predicts 2, which means it's positive review.\n",
    "print (predictions[300])\n",
    "print (np.argmax(predictions[300]))"
   ]
  },
  {
   "cell_type": "code",
   "execution_count": 95,
   "metadata": {},
   "outputs": [
    {
     "name": "stdout",
     "output_type": "stream",
     "text": [
      "Actual Review:\n",
      " yummy and affordable chinese food i like to order takeout from ts because you are always full and happy with the food you typically also can get the meal deal which includes egg roll with the entree i like the steamed dumplings  cashew chicken  dining in is also fun if you are in the park rd  area good service \n",
      "\n",
      "Actual label: \n",
      " 2\n"
     ]
    }
   ],
   "source": [
    "#Let's check row data to see how this review looks like\n",
    "# On validation we checked the original review, the true value rated as 2(positive), also the actual review seems compliment, \n",
    "#Thus, the result same as we predicted\n",
    "print('Actual Review:\\n', new_df.iloc[200300,2], '\\n')\n",
    "\n",
    "print('Actual label: \\n',np.argmax(y_val[300]))"
   ]
  },
  {
   "cell_type": "code",
   "execution_count": 59,
   "metadata": {},
   "outputs": [
    {
     "name": "stdout",
     "output_type": "stream",
     "text": [
      "[0.79312515 0.06544247 0.14143239]\n",
      "0\n"
     ]
    }
   ],
   "source": [
    "#Let's find a negative prediction review, on row 388 we can see the prediction has 90% confidence on 0, \n",
    "#the model predicts its negative rates.\n",
    "print (predictions[388])\n",
    "print(np.argmax(predictions[388]))"
   ]
  },
  {
   "cell_type": "code",
   "execution_count": 93,
   "metadata": {},
   "outputs": [
    {
     "name": "stdout",
     "output_type": "stream",
     "text": [
      "Actual Review:\n",
      " dont bother take a lighter and burn your money right in front of you and you will have more fun than giving it to this guy he spends most of the time promoting his dvd and resume my  year old son was in shock when the show finished thats it he said what a joke \n",
      "\n",
      "Actual label: \n",
      " 0\n"
     ]
    }
   ],
   "source": [
    "#On validation we checked the original review rates same as 0(negative) what we've predicted.\n",
    "#Also, the actual review seems very bad. The model has pretty high accuracy.\n",
    "print('Actual Review:\\n',new_df.iloc[200388,2],'\\n')\n",
    "\n",
    "print('Actual label: \\n',np.argmax(y_val[388]))"
   ]
  },
  {
   "cell_type": "markdown",
   "metadata": {},
   "source": [
    "## Step 6: Create Alternative Models"
   ]
  },
  {
   "cell_type": "markdown",
   "metadata": {},
   "source": [
    "### Alternative Model #1: CNN "
   ]
  },
  {
   "cell_type": "code",
   "execution_count": 82,
   "metadata": {},
   "outputs": [
    {
     "name": "stdout",
     "output_type": "stream",
     "text": [
      "Model: \"sequential_5\"\n",
      "_________________________________________________________________\n",
      "Layer (type)                 Output Shape              Param #   \n",
      "=================================================================\n",
      "embedding_5 (Embedding)      (None, 256, 50)           500000    \n",
      "_________________________________________________________________\n",
      "dropout_6 (Dropout)          (None, 256, 50)           0         \n",
      "_________________________________________________________________\n",
      "conv1d_3 (Conv1D)            (None, 256, 128)          25728     \n",
      "_________________________________________________________________\n",
      "max_pooling1d_3 (MaxPooling1 (None, 128, 128)          0         \n",
      "_________________________________________________________________\n",
      "flatten_2 (Flatten)          (None, 16384)             0         \n",
      "_________________________________________________________________\n",
      "dense_5 (Dense)              (None, 64)                1048640   \n",
      "_________________________________________________________________\n",
      "dense_6 (Dense)              (None, 3)                 195       \n",
      "=================================================================\n",
      "Total params: 1,574,563\n",
      "Trainable params: 1,574,563\n",
      "Non-trainable params: 0\n",
      "_________________________________________________________________\n"
     ]
    }
   ],
   "source": [
    "dropout_rate=0.3\n",
    "model_3 = keras.Sequential()\n",
    "model_3.add(keras.layers.Embedding(MAX_NUM_WORDS, EMBEDDING_DIM, input_length=MAX_SEQUENCE_LENGTH))\n",
    "model_3.add(keras.layers.Dropout(dropout_rate))\n",
    "model_3.add(keras.layers.Conv1D(128,kernel_size=4, strides=1, padding='same'))\n",
    "model_3.add(keras.layers.MaxPooling1D (pool_size=2))\n",
    "model_3.add(keras.layers.Flatten())\n",
    "model_3.add(keras.layers.Dense(64, kernel_regularizer=keras.regularizers.l2(0.1), activation=tf.nn.relu))\n",
    "model_3.add(keras.layers.Dense(3, activation=tf.nn.softmax))\n",
    "\n",
    "model_3.summary()"
   ]
  },
  {
   "cell_type": "code",
   "execution_count": 83,
   "metadata": {},
   "outputs": [],
   "source": [
    "# Compile the model\n",
    "model_3.compile(optimizer=tf.train.AdamOptimizer(),\n",
    "              loss='categorical_crossentropy',\n",
    "              metrics=['accuracy'])"
   ]
  },
  {
   "cell_type": "code",
   "execution_count": 84,
   "metadata": {},
   "outputs": [
    {
     "name": "stdout",
     "output_type": "stream",
     "text": [
      "Train on 200000 samples, validate on 50000 samples\n",
      "Epoch 1/5\n",
      "200000/200000 [==============================] - 187s 937us/sample - loss: 0.5901 - acc: 0.8254 - val_loss: 0.4976 - val_acc: 0.8426\n",
      "Epoch 2/5\n",
      "200000/200000 [==============================] - 190s 951us/sample - loss: 0.4554 - acc: 0.8522 - val_loss: 0.4516 - val_acc: 0.8471\n",
      "Epoch 3/5\n",
      "200000/200000 [==============================] - 190s 951us/sample - loss: 0.4208 - acc: 0.8606 - val_loss: 0.4369 - val_acc: 0.8547\n",
      "Epoch 4/5\n",
      "200000/200000 [==============================] - 191s 955us/sample - loss: 0.4077 - acc: 0.8651 - val_loss: 0.4433 - val_acc: 0.8511\n",
      "Epoch 5/5\n",
      "200000/200000 [==============================] - 191s 955us/sample - loss: 0.3996 - acc: 0.8680 - val_loss: 0.4327 - val_acc: 0.8547\n"
     ]
    }
   ],
   "source": [
    "# Train the model\n",
    "history_3 = model_3.fit(x_train, y_train, validation_data=(x_val, y_val), batch_size=128, epochs=5, verbose=1)\n",
    "                    "
   ]
  },
  {
   "cell_type": "code",
   "execution_count": 86,
   "metadata": {},
   "outputs": [
    {
     "name": "stderr",
     "output_type": "stream",
     "text": [
      "W0723 23:49:53.236206  9160 hdf5_format.py:110] TensorFlow optimizers do not make it possible to access optimizer attributes or optimizer state after instantiation. As a result, we cannot save the optimizer as part of the model save file. You will have to compile your model again after loading it. Prefer using a Keras optimizer instead (see keras.io/optimizers).\n"
     ]
    }
   ],
   "source": [
    "# Save the model\n",
    "model_3.save('M3.h5')"
   ]
  },
  {
   "cell_type": "markdown",
   "metadata": {},
   "source": [
    "### Alternative Model 2: LSTM and CNN"
   ]
  },
  {
   "cell_type": "code",
   "execution_count": 37,
   "metadata": {},
   "outputs": [
    {
     "name": "stdout",
     "output_type": "stream",
     "text": [
      "Model: \"sequential_3\"\n",
      "_________________________________________________________________\n",
      "Layer (type)                 Output Shape              Param #   \n",
      "=================================================================\n",
      "embedding_3 (Embedding)      (None, 256, 50)           500000    \n",
      "_________________________________________________________________\n",
      "dropout_4 (Dropout)          (None, 256, 50)           0         \n",
      "_________________________________________________________________\n",
      "conv1d_1 (Conv1D)            (None, 256, 128)          32128     \n",
      "_________________________________________________________________\n",
      "max_pooling1d_1 (MaxPooling1 (None, 128, 128)          0         \n",
      "_________________________________________________________________\n",
      "lstm_2 (LSTM)                (None, 128)               131584    \n",
      "_________________________________________________________________\n",
      "dense_3 (Dense)              (None, 3)                 387       \n",
      "=================================================================\n",
      "Total params: 664,099\n",
      "Trainable params: 664,099\n",
      "Non-trainable params: 0\n",
      "_________________________________________________________________\n"
     ]
    }
   ],
   "source": [
    "dropout_rate=0.3\n",
    "model_4 = keras.Sequential()\n",
    "model_4.add(keras.layers.Embedding(MAX_NUM_WORDS, EMBEDDING_DIM, input_length=MAX_SEQUENCE_LENGTH))\n",
    "model_4.add(keras.layers.Dropout(dropout_rate))\n",
    "model_4.add(keras.layers.Conv1D(128,kernel_size=5, strides=1, padding='same'))\n",
    "model_4.add(keras.layers.MaxPooling1D (pool_size=2))\n",
    "model_4.add(keras.layers.LSTM(128, dropout=0.2, recurrent_dropout=0.2))\n",
    "model_4.add(keras.layers.Dense(3, activation=tf.nn.softmax))\n",
    "\n",
    "model_4.summary()"
   ]
  },
  {
   "cell_type": "code",
   "execution_count": 38,
   "metadata": {},
   "outputs": [],
   "source": [
    "# Compile the model\n",
    "model_4.compile(optimizer=tf.train.AdamOptimizer(),\n",
    "              loss='categorical_crossentropy',\n",
    "              metrics=['accuracy'])"
   ]
  },
  {
   "cell_type": "code",
   "execution_count": 39,
   "metadata": {},
   "outputs": [
    {
     "name": "stdout",
     "output_type": "stream",
     "text": [
      "Train on 200000 samples, validate on 50000 samples\n",
      "Epoch 1/5\n",
      "200000/200000 [==============================] - 1482s 7ms/sample - loss: 0.4243 - acc: 0.8369 - val_loss: 0.3506 - val_acc: 0.8625\n",
      "Epoch 2/5\n",
      "200000/200000 [==============================] - 1450s 7ms/sample - loss: 0.3278 - acc: 0.8706 - val_loss: 0.3313 - val_acc: 0.8681\n",
      "Epoch 3/5\n",
      "200000/200000 [==============================] - 1447s 7ms/sample - loss: 0.3001 - acc: 0.8815 - val_loss: 0.3305 - val_acc: 0.8713\n",
      "Epoch 4/5\n",
      "200000/200000 [==============================] - 1493s 7ms/sample - loss: 0.2804 - acc: 0.8892 - val_loss: 0.3278 - val_acc: 0.8723\n",
      "Epoch 5/5\n",
      "200000/200000 [==============================] - 1449s 7ms/sample - loss: 0.2644 - acc: 0.8957 - val_loss: 0.3353 - val_acc: 0.8710\n"
     ]
    }
   ],
   "source": [
    "# Train the model\n",
    "history_4 = model_4.fit(x_train, y_train, validation_data=(x_val, y_val), batch_size=128, epochs=5, verbose=1)"
   ]
  },
  {
   "cell_type": "code",
   "execution_count": 40,
   "metadata": {},
   "outputs": [
    {
     "name": "stderr",
     "output_type": "stream",
     "text": [
      "W0722 21:21:50.231292  9160 hdf5_format.py:110] TensorFlow optimizers do not make it possible to access optimizer attributes or optimizer state after instantiation. As a result, we cannot save the optimizer as part of the model save file. You will have to compile your model again after loading it. Prefer using a Keras optimizer instead (see keras.io/optimizers).\n"
     ]
    }
   ],
   "source": [
    "# Save the model\n",
    "model_4.save('M4.h5')"
   ]
  },
  {
   "cell_type": "markdown",
   "metadata": {},
   "source": [
    "## Step 6: Plot Results of Alternative Models"
   ]
  },
  {
   "cell_type": "code",
   "execution_count": 91,
   "metadata": {},
   "outputs": [
    {
     "data": {
      "image/png": "[encoded data removed]",
      "text/plain": [
       "<Figure size 720x360 with 1 Axes>"
      ]
     },
     "metadata": {
      "needs_background": "light"
     },
     "output_type": "display_data"
    }
   ],
   "source": [
    "def plot_history(histories, key='acc'):\n",
    "  plt.figure(figsize=(10,5))\n",
    "  for name, history in histories:\n",
    "    val = plt.plot(history.epoch, history.history['val_'+key],\n",
    "                   '--', label=name.title()+' Val')\n",
    "    plt.plot(history.epoch, history.history[key], color=val[0].get_color(),\n",
    "             label=name.title()+' Train')\n",
    "\n",
    "  plt.xlabel('Epochs')\n",
    "  plt.ylabel(key.replace('_',' ').title())\n",
    "  plt.legend()\n",
    "\n",
    "  plt.xlim([0,max(history.epoch)])\n",
    "  plt.ylim([0.8,1])\n",
    "\n",
    "\n",
    "plot_history([('A.M. 1: CNN', history_3),\n",
    "              ('A.M. 2: CNN & LSTM', history_4)])"
   ]
  }
 ],
 "metadata": {
  "kernelspec": {
   "display_name": "Python 3",
   "language": "python",
   "name": "python3"
  },
  "language_info": {
   "codemirror_mode": {
    "name": "ipython",
    "version": 3
   },
   "file_extension": ".py",
   "mimetype": "text/x-python",
   "name": "python",
   "nbconvert_exporter": "python",
   "pygments_lexer": "ipython3",
   "version": "3.7.3"
  }
 },
 "nbformat": 4,
 "nbformat_minor": 2
}
